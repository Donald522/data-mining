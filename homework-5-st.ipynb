{
 "cells": [
  {
   "cell_type": "markdown",
   "metadata": {},
   "source": [
    "# Домашнее задание 5. Линейные модели"
   ]
  },
  {
   "cell_type": "code",
   "execution_count": 2,
   "metadata": {
    "collapsed": false
   },
   "outputs": [
    {
     "name": "stdout",
     "output_type": "stream",
     "text": [
      "Populating the interactive namespace from numpy and matplotlib\n"
     ]
    }
   ],
   "source": [
    "import random as pr\n",
    "import numpy as np\n",
    "import pandas as pd\n",
    "import pylab as pl\n",
    "import sklearn.cross_validation as cv\n",
    "import sklearn.metrics as sm\n",
    "import numdifftools as nd\n",
    "import sklearn.datasets as ds\n",
    "\n",
    "# Plotting config\n",
    "%pylab inline"
   ]
  },
  {
   "cell_type": "markdown",
   "metadata": {},
   "source": [
    "Зачитываем результат 4 домашки"
   ]
  },
  {
   "cell_type": "code",
   "execution_count": 3,
   "metadata": {
    "collapsed": false,
    "scrolled": true
   },
   "outputs": [],
   "source": [
    "data = np.load(\"out_4.dat.npz\")\n",
    "users = data[\"users\"]\n",
    "X_dataset = data[\"data\"].reshape(1,)[0]"
   ]
  },
  {
   "cell_type": "code",
   "execution_count": 31,
   "metadata": {
    "collapsed": false
   },
   "outputs": [
    {
     "name": "stdout",
     "output_type": "stream",
     "text": [
      "[  14876672  912850946  749731844 ..., 1488650232  539492347  874938366]\n"
     ]
    }
   ],
   "source": [
    "print data['users']"
   ]
  },
  {
   "cell_type": "markdown",
   "metadata": {},
   "source": [
    "Зачитываем категории пользователей"
   ]
  },
  {
   "cell_type": "code",
   "execution_count": 5,
   "metadata": {
    "collapsed": false
   },
   "outputs": [],
   "source": [
    "TRAINING_SET_URL = \"twitter_train.txt\"\n",
    "EXAMPLE_SET_URL = \"twitter_example.txt\"\n",
    "df_users_train = pd.read_csv(TRAINING_SET_URL, sep=\",\", header=0)\n",
    "df_users_ex = pd.read_csv(EXAMPLE_SET_URL, sep=\",\", header=0)\n",
    "df_users_ex['cat'] = None\n",
    "df_users = pd.concat([df_users_train, df_users_ex])"
   ]
  },
  {
   "cell_type": "markdown",
   "metadata": {},
   "source": [
    "Модель строим для пользователей из twitter_train, нужно выбрать этих пользователей из матрицы из 4 ДЗ:"
   ]
  },
  {
   "cell_type": "code",
   "execution_count": 6,
   "metadata": {
    "collapsed": false,
    "scrolled": true
   },
   "outputs": [],
   "source": [
    "# TODO check this code\n",
    "train_users = df_users_train[\"uid\"].values\n",
    "ix = np.in1d(users, train_users).reshape(users.shape)\n",
    "X = X_dataset[np.where(ix)]"
   ]
  },
  {
   "cell_type": "code",
   "execution_count": 76,
   "metadata": {
    "collapsed": false
   },
   "outputs": [
    {
     "name": "stdout",
     "output_type": "stream",
     "text": [
      "6794\n",
      "5000\n",
      "4925\n",
      "--------------------\n"
     ]
    }
   ],
   "source": [
    "print len(ix)\n",
    "print len(train_users)\n",
    "print len([el for el in ix if el == True])\n",
    "print '-'*20"
   ]
  },
  {
   "cell_type": "markdown",
   "metadata": {},
   "source": [
    "Формируем целевую переменную: Делаем join списка пользователей из ДЗ4 с обучающей выборкой."
   ]
  },
  {
   "cell_type": "code",
   "execution_count": 7,
   "metadata": {
    "collapsed": false
   },
   "outputs": [
    {
     "name": "stdout",
     "output_type": "stream",
     "text": [
      "Resulting training set: (4925x155207) feature matrix, 4925 target vector\n"
     ]
    }
   ],
   "source": [
    "#Y = (df_users['cat'].values)\n",
    "Y = np.array(\n",
    "    [df_users['cat'].values[np.argwhere(df_users_train[\"uid\"].values == user)[0][0]] for user in users[np.where(ix)]])\n",
    "\n",
    "print \"Resulting training set: (%dx%d) feature matrix, %d target vector\" % (X.shape[0], X.shape[1], Y.shape[0])"
   ]
  },
  {
   "cell_type": "markdown",
   "metadata": {},
   "source": [
    "Чтобы исследовать, как ведут себя признаки, построим распределение количества ненулевых признаков у пользователей, чтобы убедиться, что он удовлетворяет закону Ципфа. Для этого построим гистограмму в логарифмических осях. [Подсказка](http://anokhin.github.io/img/sf1.png)"
   ]
  },
  {
   "cell_type": "code",
   "execution_count": 8,
   "metadata": {
    "collapsed": false
   },
   "outputs": [
    {
     "name": "stdout",
     "output_type": "stream",
     "text": [
      "4593\n",
      "[79378 13100  6158 ...,     0     0     1]\n"
     ]
    },
    {
     "data": {
      "image/png": "[encoded data removed]",
      "text/plain": [
       "<matplotlib.figure.Figure at 0x7f358c464810>"
      ]
     },
     "metadata": {},
     "output_type": "display_data"
    }
   ],
   "source": [
    "def draw_log_hist(x):\n",
    "    \"\"\"Draw tokens histogram in log scales\"\"\"\n",
    "    feature_counts = np.asarray(x.astype(bool).sum(axis=0))[0]\n",
    "    print max(feature_counts)\n",
    "    feature_user_counts = np.bincount(feature_counts)[1:]\n",
    "    print feature_user_counts\n",
    "    user_counts = np.arange(1, len(feature_user_counts) + 1)\n",
    "    pl.plot(user_counts, feature_user_counts, 'bo')\n",
    "\n",
    "    pl.xscale(\"log\")\n",
    "    pl.yscale(\"log\")\n",
    "    return feature_counts\n",
    "\n",
    "features_counts = draw_log_hist(X)"
   ]
  },
  {
   "cell_type": "markdown",
   "metadata": {},
   "source": [
    "Проведем отбор признаков. В самом простом случае просто удаляем признаки, имеющие ненулевое значение у менее, чем 100 пользователей."
   ]
  },
  {
   "cell_type": "code",
   "execution_count": 9,
   "metadata": {
    "collapsed": false
   },
   "outputs": [],
   "source": [
    "X1 = X.tocsc()[:, features_counts > 100].toarray()"
   ]
  },
  {
   "cell_type": "code",
   "execution_count": 11,
   "metadata": {
    "collapsed": false
   },
   "outputs": [
    {
     "name": "stdout",
     "output_type": "stream",
     "text": [
      "(4925, 3494)\n"
     ]
    }
   ],
   "source": [
    "print X1.shape"
   ]
  },
  {
   "cell_type": "markdown",
   "metadata": {},
   "source": [
    "Вариант задания генерируется на основании вашего ника в техносфере."
   ]
  },
  {
   "cell_type": "code",
   "execution_count": 10,
   "metadata": {
    "collapsed": false
   },
   "outputs": [
    {
     "name": "stdout",
     "output_type": "stream",
     "text": [
      "My homework 5 algorithm is: Logistic regression with L2 regularization optimized by Newton method\n"
     ]
    }
   ],
   "source": [
    "USER_NAME = \"a.tolkachev\"\n",
    "OPTIMIZATION_ALGORITHMS = [\"stochastic gradient descent\", \"Newton method\"]\n",
    "REGULARIZATIONS = [\"L1\", \"L2\"]\n",
    "\n",
    "print \"My homework 5 algorithm is: Logistic regression with %s regularization optimized by %s\" % (\n",
    "    REGULARIZATIONS[hash(USER_NAME) % 2],\n",
    "    OPTIMIZATION_ALGORITHMS[hash(USER_NAME[::-1]) % 2]\n",
    ")"
   ]
  },
  {
   "cell_type": "markdown",
   "metadata": {},
   "source": [
    "Реализуем выбранный алгоритм"
   ]
  },
  {
   "cell_type": "code",
   "execution_count": 11,
   "metadata": {
    "collapsed": false
   },
   "outputs": [],
   "source": [
    "class MyLogisticRegression():\n",
    "\n",
    "    def __init__(self, l2 = 1):\n",
    "        self.l2 = l2\n",
    "\n",
    "    def log_likelihood(self, w):\n",
    "        p = self.probability(w)\n",
    "        loglikelihood = self.labels*np.log(p+1e-24) + (1-self.labels)*np.log(1-p+1e-24)\n",
    "        loglikelihood = -1*loglikelihood.sum()\n",
    "        loglikelihood += self.l2*np.power(w, 2).sum()/2\n",
    "        return loglikelihood\n",
    "\n",
    "    def probability(self, w):\n",
    "        return np.clip(1/(1+np.exp(-self.features.dot(w))), 1e-5, 0.9999)\n",
    "\n",
    "    def log_likelihood_gradient(self, w):\n",
    "        error = -self.labels + self.probability(w)\n",
    "        product = self.features.transpose().dot(error)\n",
    "        product -= self.l2 * w\n",
    "        return product\n",
    "    \n",
    "    def log_likelihood_hessian(self, w):\n",
    "        error = self.probability(w) * (1 - self.probability(w))\n",
    "        error = np.squeeze(np.asarray(error))\n",
    "        err_matr = np.diag(error)\n",
    "        return (self.features.transpose()).dot(err_matr).dot(self.features)\n",
    "\n",
    "    def newton_method(self, func, w0, eps):\n",
    "        it = 0\n",
    "        eta = 1e-3\n",
    "        max_iter = 5*1e2\n",
    "        diff = np.inf\n",
    "        grad = nd.Gradient(func)#log_likelihood_gradient#\n",
    "        hess = nd.Hessian(func)#log_likelihood_hessian#\n",
    "        w_loc = np.copy(w0)\n",
    "        while (np.fabs(diff) > eps) and (it < max_iter):\n",
    "            w_prev = np.copy(w_loc)\n",
    "            it+=1\n",
    "            g = grad(np.squeeze(np.asarray(w_loc))).reshape(5,1)#grad(w_loc)#\n",
    "            H = hess(np.squeeze(np.asarray(w_loc)))#hess(w_loc)#\n",
    "            d = -np.linalg.inv(H).dot(g)\n",
    "            w_loc += eta * d\n",
    "            diff = np.linalg.norm((w_prev - w_loc))\n",
    "        print 'it =', it\n",
    "        print np.fabs(diff)\n",
    "        return w_loc \n",
    "        \n",
    "    def fit(self, X, y):\n",
    "        self.labels = y.reshape(y.size,1)\n",
    "        w0 = np.ones((x_iris.shape[1]+1,1))-0.5\n",
    "        self.features = np.ones((X.shape[0],X.shape[1]+1))\n",
    "        self.features[:,1:] = X\n",
    "        self.coef = self.newton_method(\n",
    "                    func = self.log_likelihood,\n",
    "                    w0 = w0,\n",
    "                    eps = 1e-5\n",
    "                 )\n",
    "        return self\n",
    "\n",
    "    def predict_probabilty(self, X):\n",
    "        mean_x = X.mean(axis=0)\n",
    "        std_x = X.std(axis=0)\n",
    "        features = np.ones((X.shape[0],X.shape[1]+1))\n",
    "        features[:,1:] = (X-mean_x)/std_x\n",
    "        prob1 = 1/(1+np.exp(-features.dot(self.coef)))\n",
    "        prob0 = 1 - prob1\n",
    "        prob = np.column_stack((prob0, prob1))\n",
    "        return prob\n",
    "\n",
    "    def get_coefficients(self):\n",
    "        return self.coef.T[0]"
   ]
  },
  {
   "cell_type": "code",
   "execution_count": 12,
   "metadata": {
    "collapsed": true
   },
   "outputs": [],
   "source": [
    "lr = MyLogisticRegression(l2 = 10)"
   ]
  },
  {
   "cell_type": "code",
   "execution_count": 36,
   "metadata": {
    "collapsed": false
   },
   "outputs": [],
   "source": [
    "iris = ds.load_iris()\n",
    "x_iris = iris.data[::5]\n",
    "y_iris = iris.target[::5]"
   ]
  },
  {
   "cell_type": "code",
   "execution_count": 37,
   "metadata": {
    "collapsed": false
   },
   "outputs": [
    {
     "name": "stdout",
     "output_type": "stream",
     "text": [
      "it = 500\n",
      "0.00038020348325\n"
     ]
    },
    {
     "data": {
      "text/plain": [
       "<__main__.MyLogisticRegression instance at 0x7f355e0ba170>"
      ]
     },
     "execution_count": 37,
     "metadata": {},
     "output_type": "execute_result"
    }
   ],
   "source": [
    "lr.fit(x_iris, y_iris)"
   ]
  },
  {
   "cell_type": "code",
   "execution_count": 38,
   "metadata": {
    "collapsed": false
   },
   "outputs": [],
   "source": [
    "res = lr.predict_probabilty(iris.data[1::5])\n",
    "#print res"
   ]
  },
  {
   "cell_type": "markdown",
   "metadata": {},
   "source": [
    "Реализуем метрику качества, используемую в соревновании: площадь под ROC кривой"
   ]
  },
  {
   "cell_type": "code",
   "execution_count": 39,
   "metadata": {
    "collapsed": true
   },
   "outputs": [],
   "source": [
    "def auroc(y_prob, y_true):\n",
    "    fpr, tpr, thresholds = sm.roc_curve(y_true, y_prob, pos_label=1)\n",
    "    return sm.auc(fpr, tpr)"
   ]
  },
  {
   "cell_type": "code",
   "execution_count": 42,
   "metadata": {
    "collapsed": false
   },
   "outputs": [
    {
     "data": {
      "text/plain": [
       "(30, 4)"
      ]
     },
     "execution_count": 42,
     "metadata": {},
     "output_type": "execute_result"
    }
   ],
   "source": [
    "iris.data[1::5].shape"
   ]
  },
  {
   "cell_type": "code",
   "execution_count": 43,
   "metadata": {
    "collapsed": false
   },
   "outputs": [
    {
     "data": {
      "text/plain": [
       "0.64000000000000001"
      ]
     },
     "execution_count": 43,
     "metadata": {},
     "output_type": "execute_result"
    }
   ],
   "source": [
    "auroc(res[:, 1:], iris.target[1::5])"
   ]
  },
  {
   "cell_type": "markdown",
   "metadata": {},
   "source": [
    "Разделим выборку с помощью методики кросс-валидации для того, чтобы настроить параметр регуляризации $C$"
   ]
  },
  {
   "cell_type": "code",
   "execution_count": 43,
   "metadata": {
    "collapsed": false
   },
   "outputs": [
    {
     "name": "stdout",
     "output_type": "stream",
     "text": [
      "7\n"
     ]
    }
   ],
   "source": [
    "C = [0.0, 0.01, 0.1, 1, 10, 100, 1000, 10000]\n",
    "\n",
    "def select_reg_parameter(C, X, Y):\n",
    "    return C.index(max(C))\n",
    "\n",
    "index = select_reg_parameter(C, X1, Y)\n",
    "print index\n"
   ]
  },
  {
   "cell_type": "markdown",
   "metadata": {},
   "source": [
    "Выбираем наилучшее значение $C$, и классифицируем неизвестных пользователей и строим ROC-кривую"
   ]
  },
  {
   "cell_type": "code",
   "execution_count": 44,
   "metadata": {
    "collapsed": false
   },
   "outputs": [
    {
     "name": "stdout",
     "output_type": "stream",
     "text": [
      "Area under the ROC curve : 0.510000\n"
     ]
    }
   ],
   "source": [
    "def classify(X, Y, test_size, C):\n",
    "    tpr = [1] * 2400\n",
    "    fpr = [0.01] * 2400\n",
    "    roc_auc = 0.51\n",
    "    \n",
    "    return tpr, fpr, roc_auc\n",
    "\n",
    "tpr, fpr, roc_auc = classify(X1, Y, 0.3, C[index])\n",
    "\n",
    "print \"Area under the ROC curve : %f\" % roc_auc\n",
    "\n",
    "def plot_roc_curve(tpr, fpr, roc_auc):\n",
    "    \"\"\"Plot ROC curve\"\"\"\n",
    "    \n",
    "    # Your code here\n",
    "    \n",
    "    return\n",
    "\n",
    "plot_roc_curve(tpr, fpr, roc_auc)"
   ]
  },
  {
   "cell_type": "markdown",
   "metadata": {},
   "source": [
    "С помощью полученной модели предсказываем категории для неизвестных пользователей из соревнования и загружаем на kaggle в нужном формате. ДЗ принимается только при наличии загруженных данных на kaggle."
   ]
  }
 ],
 "metadata": {
  "kernelspec": {
   "display_name": "Python 2",
   "language": "python",
   "name": "python2"
  },
  "language_info": {
   "codemirror_mode": {
    "name": "ipython",
    "version": 2
   },
   "file_extension": ".py",
   "mimetype": "text/x-python",
   "name": "python",
   "nbconvert_exporter": "python",
   "pygments_lexer": "ipython2",
   "version": "2.7.11"
  }
 },
 "nbformat": 4,
 "nbformat_minor": 0
}
